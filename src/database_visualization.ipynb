{
 "cells": [
  {
   "cell_type": "code",
   "execution_count": null,
   "metadata": {},
   "outputs": [],
   "source": [
    "import chromadb\n",
    "import numpy as np\n",
    "import matplotlib.pyplot as plt\n",
    "from sklearn.manifold import TSNE"
   ]
  },
  {
   "cell_type": "code",
   "execution_count": null,
   "metadata": {},
   "outputs": [],
   "source": [
    "# Initialize ChromaDB client\n",
    "client = chromadb.PersistentClient(path=\"./chromadb\")\n",
    "\n",
    "# Create a collection for recipes\n",
    "collection = client.get_or_create_collection(name=\"recipes\")"
   ]
  },
  {
   "cell_type": "code",
   "execution_count": null,
   "metadata": {},
   "outputs": [],
   "source": [
    "def query_with_metadata(collection, sample_size=500):\n",
    "    \"\"\"\n",
    "    Query embeddings and metadata from the collection where the 'category' attribute is defined and not an empty string.\n",
    "    \"\"\"\n",
    "    total_count = collection.count()\n",
    "\n",
    "    # Retrieve embeddings in chunks based on sampled indices\n",
    "    embeddings = []\n",
    "    metadatas = []\n",
    "    used_index = set()\n",
    "    \n",
    "    while len(embeddings) < sample_size:\n",
    "        random_index = np.random.randint(total_count)\n",
    "        \n",
    "        while random_index in used_index:\n",
    "            random_index = np.random.randint(total_count)\n",
    "\n",
    "        result = collection.get(\n",
    "            offset=random_index,\n",
    "            limit=1,\n",
    "            include=[\"embeddings\", \"metadatas\"],\n",
    "            where={\n",
    "                \"category\": {\"$ne\": \"\"},  # Ensure 'cuisine' exists\n",
    "            },\n",
    "        )\n",
    "\n",
    "        if len(result[\"embeddings\"]) > 0:\n",
    "            embeddings.append(result[\"embeddings\"][0])\n",
    "            metadatas.append(result[\"metadatas\"][0])\n",
    "\n",
    "        used_index.add(random_index)\n",
    "\n",
    "    embeddings = np.array(embeddings)\n",
    "    categories = [metadata[\"category\"] for metadata in metadatas]\n",
    "\n",
    "    return embeddings, categories\n"
   ]
  },
  {
   "cell_type": "code",
   "execution_count": null,
   "metadata": {},
   "outputs": [],
   "source": [
    "\n",
    "def visualize_embeddings_by_category(collection, sample_size=500):\n",
    "    \"\"\"\n",
    "    Visualize embeddings with color-coding by category metadata.\n",
    "    \"\"\"\n",
    "    # Fetch embeddings and cuisines\n",
    "    print(\"Querying database...\")\n",
    "    embeddings, categories = query_with_metadata(collection, sample_size)\n",
    "\n",
    "    print(\"Creating t-SNE...\")\n",
    "    # Apply t-SNE to reduce dimensions to 2D\n",
    "    tsne = TSNE(n_components=2, random_state=42, perplexity=35, n_iter=1000)\n",
    "    reduced_embeddings = tsne.fit_transform(embeddings)\n",
    "\n",
    "    # Map cuisines to colors\n",
    "    unique_categories = list(set(categories))\n",
    "    color_map = {category: i for i, category in enumerate(unique_categories)}\n",
    "    colors = [color_map[category] for category in categories]\n",
    "\n",
    "    # Plot using matplotlib\n",
    "    plt.figure(figsize=(12, 8))\n",
    "    plt.scatter(\n",
    "        reduced_embeddings[:, 0],\n",
    "        reduced_embeddings[:, 1],\n",
    "        c=colors,\n",
    "        cmap=\"tab20b\",  # Use a colormap with many colors\n",
    "        alpha=0.7,\n",
    "    )\n",
    "\n",
    "    # Create a legend mapping colors to cuisines\n",
    "    legend_labels = [\n",
    "        plt.Line2D(\n",
    "            [0],\n",
    "            [0],\n",
    "            marker=\"o\",\n",
    "            color=\"w\",\n",
    "            markerfacecolor=plt.cm.tab20(color_map[cuisine]),\n",
    "            markersize=10,\n",
    "        )\n",
    "        for cuisine in unique_categories\n",
    "    ]\n",
    "    plt.legend(\n",
    "        legend_labels,\n",
    "        unique_categories,\n",
    "        loc=\"upper right\",\n",
    "        title=\"Category\",\n",
    "        bbox_to_anchor=(1.3, 1),\n",
    "    )\n",
    "\n",
    "    plt.title(\"t-SNE Visualization of Recipe Embeddings by Category\")\n",
    "    plt.xlabel(\"t-SNE Component 1\")\n",
    "    plt.ylabel(\"t-SNE Component 2\")\n",
    "    plt.grid(True)\n",
    "    plt.show()"
   ]
  },
  {
   "cell_type": "code",
   "execution_count": null,
   "metadata": {},
   "outputs": [],
   "source": [
    "visualize_embeddings_by_category(collection, sample_size=500)"
   ]
  }
 ],
 "metadata": {
  "kernelspec": {
   "display_name": "env",
   "language": "python",
   "name": "python3"
  },
  "language_info": {
   "name": "python",
   "version": "3.11.1"
  }
 },
 "nbformat": 4,
 "nbformat_minor": 2
}
