{
 "cells": [
  {
   "cell_type": "code",
   "execution_count": null,
   "metadata": {},
   "outputs": [],
   "source": [
    "import requests\n",
    "from bs4 import BeautifulSoup\n",
    "import json\n",
    "\n",
    "url = 'https://www.allrecipes.com/article/common-ingredient-substitutions/'\n",
    "response = requests.get(url)\n",
    "soup = BeautifulSoup(response.content, 'html.parser')\n",
    "\n",
    "# Extract the main content of the article\n",
    "article_content = soup.find('div', class_='article-content')\n",
    "\n",
    "# # Print the text content of the article\n",
    "# print(article_content.get_text(strip=True))\n",
    "\n",
    "# Extract the table content\n",
    "table = article_content.find('table')\n",
    "rows = table.find_all('tr')\n",
    "\n",
    "# Create a list to store the extracted data\n",
    "substitutions = []\n",
    "\n",
    "# Iterate through the rows and extract the text\n",
    "for i, row in enumerate(rows):\n",
    "    if i == 0:\n",
    "        continue\n",
    "    columns = row.find_all('td')\n",
    "    if columns:\n",
    "        substitution = {\n",
    "            'Ingredient': columns[0].get_text(strip=True),\n",
    "            'Amount': columns[1].get_text(strip=True),\n",
    "            'Substitution': columns[2].get_text(strip=True)\n",
    "        }\n",
    "        substitutions.append(substitution)\n",
    "\n",
    "# Write the list of substitutions to a JSON file\n",
    "with open('../../data/substitutions.json', 'w') as json_file:\n",
    "    json.dump(substitutions, json_file, indent=4)"
   ]
  }
 ],
 "metadata": {
  "kernelspec": {
   "display_name": "env",
   "language": "python",
   "name": "python3"
  },
  "language_info": {
   "codemirror_mode": {
    "name": "ipython",
    "version": 3
   },
   "file_extension": ".py",
   "mimetype": "text/x-python",
   "name": "python",
   "nbconvert_exporter": "python",
   "pygments_lexer": "ipython3",
   "version": "3.11.1"
  }
 },
 "nbformat": 4,
 "nbformat_minor": 2
}
