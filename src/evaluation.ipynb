{
 "cells": [
  {
   "cell_type": "code",
   "execution_count": 1,
   "metadata": {},
   "outputs": [
    {
     "data": {
      "text/plain": [
       "True"
      ]
     },
     "execution_count": 1,
     "metadata": {},
     "output_type": "execute_result"
    }
   ],
   "source": [
    "from dotenv import load_dotenv\n",
    "\n",
    "load_dotenv()"
   ]
  },
  {
   "cell_type": "code",
   "execution_count": 2,
   "metadata": {},
   "outputs": [],
   "source": [
    "import os\n",
    "from openai import OpenAI\n",
    "\n",
    "client = OpenAI(base_url=os.getenv(\"URL\"), api_key=os.getenv(\"KEY\"))"
   ]
  },
  {
   "cell_type": "code",
   "execution_count": null,
   "metadata": {},
   "outputs": [],
   "source": [
    "from src.agents import EvaluationAgent\n",
    "\n",
    "eval_agent = EvaluationAgent(client=client)"
   ]
  },
  {
   "cell_type": "code",
   "execution_count": null,
   "metadata": {},
   "outputs": [
    {
     "name": "stdout",
     "output_type": "stream",
     "text": [
      "120\n",
      "Yes: 57.5%\n",
      "No: 42.5%\n"
     ]
    }
   ],
   "source": [
    "import json\n",
    "import random\n",
    "\n",
    "with open(\"../benchmarks/satisfactory_recipes_benchmark.json\", \"r\") as f:\n",
    "    satisfactory_recipes_benchmark = json.load(f)\n",
    "\n",
    "random.shuffle(satisfactory_recipes_benchmark)\n",
    "\n",
    "print(len(satisfactory_recipes_benchmark))\n",
    "print(\n",
    "    f\"Yes: {100 * sum([r['answer'] == 'Yes' for r in satisfactory_recipes_benchmark]) / len(satisfactory_recipes_benchmark)}%\"\n",
    ")\n",
    "print(\n",
    "    f\"No: {100 * sum([r['answer'] == 'No' for r in satisfactory_recipes_benchmark]) / len(satisfactory_recipes_benchmark)}%\"\n",
    ")"
   ]
  },
  {
   "cell_type": "code",
   "execution_count": null,
   "metadata": {},
   "outputs": [
    {
     "name": "stdout",
     "output_type": "stream",
     "text": [
      "Accuracy: 99.17%\n",
      "Question: Can you share a vegan pasta recipe?\n",
      "Recipe: Ingredients: 200g spaghetti, 2 cups tomato sauce, 1 cup mushrooms, 1 cup spinach, 2 tbsp olive oil. Instructions: Cook spaghetti. Sauté mushrooms and spinach in olive oil. Mix with tomato sauce and serve.\n",
      "Correct Answer: Yes\n",
      "Evaluation Agent Answer: No\n"
     ]
    }
   ],
   "source": [
    "def test_eval_agent(examples):\n",
    "    correct = 0\n",
    "    incorrect = []\n",
    "\n",
    "    for example in examples:\n",
    "        response = eval_agent.say(example[\"recipe\"], example[\"request\"])\n",
    "\n",
    "        if response == example[\"answer\"]:\n",
    "            correct += 1\n",
    "        else:\n",
    "            incorrect.append((example, response))\n",
    "\n",
    "    return correct, incorrect\n",
    "\n",
    "\n",
    "eval_correct, eval_incorrect = test_eval_agent(satisfactory_recipes_benchmark)\n",
    "print(f\"Accuracy: {100 * eval_correct / len(satisfactory_recipes_benchmark):.2f}%\")\n",
    "\n",
    "for question, eval_answer in eval_incorrect:\n",
    "    print(f\"Question: {question['request']}\")\n",
    "    print(f\"Recipe: {question['recipe']}\")\n",
    "    print(f\"Correct Answer: {question['answer']}\")\n",
    "    print(f\"Evaluation Agent Answer: {eval_answer}\")"
   ]
  },
  {
   "cell_type": "code",
   "execution_count": null,
   "metadata": {},
   "outputs": [],
   "source": [
    "from src.tools import query_vectordb, substitution_filter, scrape_web_recipe, access_memory\n",
    "from src.agents import RecipeAgent\n",
    "from src.datatypes import ToolDescription"
   ]
  },
  {
   "cell_type": "code",
   "execution_count": null,
   "metadata": {},
   "outputs": [],
   "source": [
    "tools = [\n",
    "    ToolDescription(\n",
    "        name=\"query_vectordb\",\n",
    "        signature=\"query_vectordb(query: str, n_results=1)\",\n",
    "        description=\"This function searches a vector database for recipes similar to the query argument.\",\n",
    "        example_json='Call query_vectordb:\\n```json\\n{\\n\"query\": \"banana bread recipe\"\\n}\\n```',\n",
    "        function=query_vectordb,\n",
    "    ),\n",
    "    ToolDescription(\n",
    "        name=\"substitution_filter\",\n",
    "        signature=\"substitution_filter(to_replace: list[str])\",\n",
    "        description=(\n",
    "            \"This function searches for alternatives required given a list of ingredients\"\n",
    "            \" that are necessary to change based on the user's restrictions. Only provide the ingredients to substitute as the argument.\"\n",
    "        ),\n",
    "        example_json='Call substitution_filter:\\n```json\\n{\\n\"to_replace\": [\"eggs\", \"flour\"]\\n}\\n```',\n",
    "        function=substitution_filter,\n",
    "    ),\n",
    "    ToolDescription(\n",
    "        name=\"scrape_web_recipe\",\n",
    "        signature=\"scrape_web_recipe(link: str)\",\n",
    "        description=\"This function scrapes the recipe at the provided link as an argument. Use this when the user provides a link.\",\n",
    "        example_json='Call scrape_web_recipe:\\n```json\\n{\\n\"link\": \"https://www.allrecipes.com/lemon-garlic-butter\"\\n}\\n```',\n",
    "        function=scrape_web_recipe,\n",
    "    ),\n",
    "    ToolDescription(\n",
    "        name=\"access_memory\",\n",
    "        signature=\"access_memory(query: str, n_results=1)\",\n",
    "        description=\"This function retrieves the most similar previous agent-user conversation for additional context.\",\n",
    "        example_json='Call access_memory:\\n```json\\n{\\n\"query\": \"eggless banana bread recipe\"\\n}\\n```',\n",
    "        function=access_memory,\n",
    "    ),\n",
    "]"
   ]
  },
  {
   "cell_type": "code",
   "execution_count": null,
   "metadata": {},
   "outputs": [
    {
     "name": "stdout",
     "output_type": "stream",
     "text": [
      "Temperature: 0.0\n"
     ]
    },
    {
     "name": "stderr",
     "output_type": "stream",
     "text": [
      "Processing at temp 0.00:   0%|          | 0/120 [00:00<?, ?it/s]Add of existing embedding ID: 126cc7b5ccdb19680f7c16e9017dfaa6ed6a386c7513157abf0113a4ddd20e2d\n",
      "Add of existing embedding ID: f4419a42ead631ace283b4ec62396499f3e55c44499dd625b92d64dcb1b71fe6\n",
      "Add of existing embedding ID: 8c8ebc3e876f74558180eace9ff2f03a0f12bca521d6fb7b9e4b68678672f47c\n",
      "Add of existing embedding ID: 2c22736ed1baae863a907849be6658248b9a2f0ce5edd5fe3d7987a756661263\n",
      "Add of existing embedding ID: bee81c180bb558070437c0526a3f5fe26c7a5dafbccf0a2c7cfa7b3ed106dbfe\n",
      "Add of existing embedding ID: 126cc7b5ccdb19680f7c16e9017dfaa6ed6a386c7513157abf0113a4ddd20e2d\n",
      "Add of existing embedding ID: f4419a42ead631ace283b4ec62396499f3e55c44499dd625b92d64dcb1b71fe6\n",
      "Add of existing embedding ID: 126cc7b5ccdb19680f7c16e9017dfaa6ed6a386c7513157abf0113a4ddd20e2d\n",
      "Add of existing embedding ID: f4419a42ead631ace283b4ec62396499f3e55c44499dd625b92d64dcb1b71fe6\n",
      "Add of existing embedding ID: 8c8ebc3e876f74558180eace9ff2f03a0f12bca521d6fb7b9e4b68678672f47c\n",
      "Add of existing embedding ID: 2c22736ed1baae863a907849be6658248b9a2f0ce5edd5fe3d7987a756661263\n",
      "Add of existing embedding ID: bee81c180bb558070437c0526a3f5fe26c7a5dafbccf0a2c7cfa7b3ed106dbfe\n",
      "Processing at temp 0.00: 100%|██████████| 120/120 [13:40<00:00,  6.83s/it]\n"
     ]
    },
    {
     "name": "stdout",
     "output_type": "stream",
     "text": [
      "Temperature: 0.1\n"
     ]
    },
    {
     "name": "stderr",
     "output_type": "stream",
     "text": [
      "Processing at temp 0.10: 100%|██████████| 120/120 [14:59<00:00,  7.50s/it]\n"
     ]
    },
    {
     "name": "stdout",
     "output_type": "stream",
     "text": [
      "Temperature: 0.2\n"
     ]
    },
    {
     "name": "stderr",
     "output_type": "stream",
     "text": [
      "Processing at temp 0.20: 100%|██████████| 120/120 [15:11<00:00,  7.59s/it]\n"
     ]
    }
   ],
   "source": [
    "from openai import BadRequestError\n",
    "from tqdm import tqdm\n",
    "\n",
    "all_evals = []\n",
    "errors = []\n",
    "\n",
    "temperatures = [0.0, 0.1, 0.2]\n",
    "\n",
    "for temp in temperatures:\n",
    "    print(\"Temperature:\", temp)\n",
    "    recipe_agent = RecipeAgent(\n",
    "        client=client, tools=tools, max_internal_iteration=3, temperature=temp\n",
    "    )\n",
    "\n",
    "    evaluations = []\n",
    "\n",
    "    for example in tqdm(\n",
    "        satisfactory_recipes_benchmark, desc=f\"Processing at temp {temp:.2f}\"\n",
    "    ):\n",
    "        try:\n",
    "            recipe_agent.conversation = recipe_agent.conversation[:1]\n",
    "            recipe_response, _ = recipe_agent.say(\n",
    "                example[\"request\"], add_to_memory=False\n",
    "            )\n",
    "\n",
    "            evaluation = eval_agent.say(\n",
    "                recipe=recipe_response, criteria=example[\"request\"]\n",
    "            )\n",
    "            evaluations.append(evaluation)\n",
    "        except Exception as e:\n",
    "            if type(e) is BadRequestError:\n",
    "                evaluations.append(\"Context Window\")\n",
    "            else:\n",
    "                evaluations.append(\"Other\")\n",
    "\n",
    "            errors.append(e)\n",
    "\n",
    "    all_evals.append(evaluations)"
   ]
  },
  {
   "cell_type": "code",
   "execution_count": null,
   "metadata": {},
   "outputs": [
    {
     "name": "stdout",
     "output_type": "stream",
     "text": [
      "Temperature: 0.0\n",
      "Correct: 69.16666666666667%\n",
      "Incorrect: 26.666666666666668%\n",
      "Context Window Issue: 4.166666666666666%\n",
      "Other: 0.0%\n",
      "\n",
      "Temperature: 0.1\n",
      "Correct: 75.0%\n",
      "Incorrect: 19.166666666666668%\n",
      "Context Window Issue: 5.0%\n",
      "Other: 0.8333333333333334%\n",
      "\n",
      "Temperature: 0.2\n",
      "Correct: 74.16666666666667%\n",
      "Incorrect: 20.0%\n",
      "Context Window Issue: 5.833333333333333%\n",
      "Other: 0.0%\n",
      "\n"
     ]
    }
   ],
   "source": [
    "for temp, agent_eval in zip(temperatures, all_evals):\n",
    "    correct = 0\n",
    "    incorrect = 0\n",
    "    context_window = 0\n",
    "    other = 0\n",
    "\n",
    "    for i in agent_eval:\n",
    "        if i == \"Yes\":\n",
    "            correct += 1\n",
    "        elif i == \"No\":\n",
    "            incorrect += 1\n",
    "        elif i == \"Context Window\":\n",
    "            context_window += 1\n",
    "        else:\n",
    "            other += 1\n",
    "\n",
    "    print(f\"Temperature: {temp}\")\n",
    "    print(f\"Correct: {(correct / len(agent_eval)) * 100}%\")\n",
    "    print(f\"Incorrect: {(incorrect / len(agent_eval)) * 100}%\")\n",
    "    print(f\"Context Window Issue: {(context_window / len(agent_eval)) * 100}%\")\n",
    "    print(f\"Other: {(other / len(agent_eval)) * 100}%\")\n",
    "    print()"
   ]
  },
  {
   "cell_type": "code",
   "execution_count": null,
   "metadata": {},
   "outputs": [
    {
     "data": {
      "image/png": "[encoded data removed]",
      "text/plain": [
       "<Figure size 640x480 with 1 Axes>"
      ]
     },
     "metadata": {},
     "output_type": "display_data"
    }
   ],
   "source": [
    "import matplotlib.pyplot as plt\n",
    "import numpy as np\n",
    "\n",
    "labels = [\"Correct\", \"Incorrect\", \"Context Window Limit\", \"Other Errors\"]\n",
    "satisfactory_recipe_metrics = {\n",
    "    \"Temp = 0.0\": [69.17, 26.67, 4.17, 0.0],  # Fixed the typo in the second list\n",
    "    \"Temp = 0.1\": [75.0, 19.17, 5, 0.83],\n",
    "    \"Temp = 0.2\": [74.12, 20, 5.83, 0.0],\n",
    "}\n",
    "\n",
    "# Custom colors for each temperature setting\n",
    "colors = {\"Temp = 0.0\": \"orange\", \"Temp = 0.1\": \"purple\", \"Temp = 0.2\": \"green\"}\n",
    "\n",
    "x = np.arange(len(labels))  # the label locations\n",
    "width = 0.25  # the width of the bars\n",
    "multiplier = 0\n",
    "\n",
    "fig, ax = plt.subplots(constrained_layout=True)  # Fixed the layout argument\n",
    "\n",
    "# Plotting each metric with the specified colors\n",
    "for attribute, measurement in satisfactory_recipe_metrics.items():\n",
    "    offset = width * multiplier\n",
    "    color = colors[attribute]\n",
    "    rects = ax.bar(x + offset, measurement, width, label=attribute, color=color)\n",
    "    ax.bar_label(rects, padding=3)\n",
    "    multiplier += 1\n",
    "\n",
    "# Add some text for labels, title, and custom x-axis tick labels, etc.\n",
    "ax.set_ylabel(\"Percentage (%)\")\n",
    "ax.set_title(\"Satisfactory Recipe Evaluation Benchmark\")\n",
    "ax.set_xticks(x + width, labels)  # Adjust the x-tick positions to match bar locations\n",
    "ax.legend(loc=\"upper left\", ncols=4)\n",
    "ax.set_ylim(0, 100)  # Adjusted y-limit to 100 for percentage display\n",
    "\n",
    "plt.show()"
   ]
  },
  {
   "cell_type": "code",
   "execution_count": null,
   "metadata": {},
   "outputs": [
    {
     "name": "stderr",
     "output_type": "stream",
     "text": [
      "100%|██████████| 120/120 [19:29<00:00,  9.75s/it]"
     ]
    },
    {
     "name": "stdout",
     "output_type": "stream",
     "text": [
      "Pass@1: 84/120\n",
      "Pass@2: 103/120\n"
     ]
    },
    {
     "name": "stderr",
     "output_type": "stream",
     "text": [
      "\n"
     ]
    }
   ],
   "source": [
    "pass_at_1 = 0\n",
    "pass_at_2 = 0\n",
    "\n",
    "recipe_agent = RecipeAgent(\n",
    "    client=client, tools=tools, max_internal_iteration=3, temperature=0.1\n",
    ")\n",
    "\n",
    "for example in tqdm(satisfactory_recipes_benchmark):\n",
    "    recipe_agent.conversation = recipe_agent.conversation[:1]\n",
    "    try:\n",
    "        recipe_response, _ = recipe_agent.say(example[\"request\"], add_to_memory=False)\n",
    "        evaluation = eval_agent.say(recipe=recipe_response, criteria=example[\"request\"])\n",
    "    except:\n",
    "        evaluation = \"Fail\"\n",
    "\n",
    "    if evaluation == \"Yes\":\n",
    "        pass_at_1 += 1\n",
    "        pass_at_2 += 1\n",
    "    else:\n",
    "        recipe_agent.conversation = recipe_agent.conversation[:1]\n",
    "        try:\n",
    "            recipe_response, _ = recipe_agent.say(\n",
    "                example[\"request\"], add_to_memory=False\n",
    "            )\n",
    "            evaluation = eval_agent.say(\n",
    "                recipe=recipe_response, criteria=example[\"request\"]\n",
    "            )\n",
    "        except:\n",
    "            evaluation = \"Fail\"\n",
    "\n",
    "        if evaluation == \"Yes\":\n",
    "            pass_at_2 += 1\n",
    "\n",
    "# Print pass@1 and pass@2 metrics\n",
    "print(f\"Pass@1: {pass_at_1}/{len(satisfactory_recipes_benchmark)}\")\n",
    "print(f\"Pass@2: {pass_at_2}/{len(satisfactory_recipes_benchmark)}\")"
   ]
  },
  {
   "cell_type": "code",
   "execution_count": null,
   "metadata": {},
   "outputs": [
    {
     "name": "stdout",
     "output_type": "stream",
     "text": [
      "Pass@1: 70.0%\n",
      "Pass@2: 85.83333333333333%\n"
     ]
    }
   ],
   "source": [
    "print(f\"Pass@1: {100 * pass_at_1 / len(satisfactory_recipes_benchmark)}%\")\n",
    "print(f\"Pass@2: {100 * pass_at_2 / len(satisfactory_recipes_benchmark)}%\")"
   ]
  },
  {
   "cell_type": "code",
   "execution_count": null,
   "metadata": {},
   "outputs": [
    {
     "data": {
      "image/png": "[encoded data removed]",
      "text/plain": [
       "<Figure size 700x500 with 1 Axes>"
      ]
     },
     "metadata": {},
     "output_type": "display_data"
    }
   ],
   "source": [
    "import matplotlib.pyplot as plt\n",
    "\n",
    "# Data for the line plot\n",
    "x = [\"Pass@1\", \"Pass@2\"]\n",
    "y = [70.0, 85.83]\n",
    "\n",
    "# Plotting the line graph\n",
    "plt.figure(figsize=(7, 5))\n",
    "plt.plot(x, y, marker=\"o\", linestyle=\"-\", color=\"purple\", label=\"Pass Rate\")\n",
    "plt.title(\"pass@k Rate\")\n",
    "plt.xlabel(\"pass@k\")\n",
    "plt.ylabel(\"Percentage (%)\")\n",
    "plt.ylim(0, 100)  # Set y-axis to range from 0% to 100%\n",
    "plt.grid(True)\n",
    "plt.legend()\n",
    "plt.show()"
   ]
  },
  {
   "cell_type": "code",
   "execution_count": null,
   "metadata": {},
   "outputs": [],
   "source": [
    "import json\n",
    "import random\n",
    "\n",
    "with open(\"../benchmarks/tools_benchmark.json\", \"r\") as f:\n",
    "    tools_benchmark = json.load(f)\n",
    "\n",
    "random.shuffle(tools_benchmark)"
   ]
  },
  {
   "cell_type": "code",
   "execution_count": 11,
   "metadata": {},
   "outputs": [
    {
     "data": {
      "text/plain": [
       "55"
      ]
     },
     "execution_count": 11,
     "metadata": {},
     "output_type": "execute_result"
    }
   ],
   "source": [
    "len(tools_benchmark)"
   ]
  },
  {
   "cell_type": "code",
   "execution_count": null,
   "metadata": {},
   "outputs": [
    {
     "name": "stderr",
     "output_type": "stream",
     "text": [
      " 22%|██▏       | 12/55 [01:50<03:46,  5.27s/it]Add of existing embedding ID: 126cc7b5ccdb19680f7c16e9017dfaa6ed6a386c7513157abf0113a4ddd20e2d\n",
      "Add of existing embedding ID: f4419a42ead631ace283b4ec62396499f3e55c44499dd625b92d64dcb1b71fe6\n",
      "Add of existing embedding ID: 8c8ebc3e876f74558180eace9ff2f03a0f12bca521d6fb7b9e4b68678672f47c\n",
      "Add of existing embedding ID: 2c22736ed1baae863a907849be6658248b9a2f0ce5edd5fe3d7987a756661263\n",
      "Add of existing embedding ID: bee81c180bb558070437c0526a3f5fe26c7a5dafbccf0a2c7cfa7b3ed106dbfe\n",
      "Add of existing embedding ID: 126cc7b5ccdb19680f7c16e9017dfaa6ed6a386c7513157abf0113a4ddd20e2d\n",
      "Add of existing embedding ID: f4419a42ead631ace283b4ec62396499f3e55c44499dd625b92d64dcb1b71fe6\n",
      "Add of existing embedding ID: 126cc7b5ccdb19680f7c16e9017dfaa6ed6a386c7513157abf0113a4ddd20e2d\n",
      "Add of existing embedding ID: f4419a42ead631ace283b4ec62396499f3e55c44499dd625b92d64dcb1b71fe6\n",
      "Add of existing embedding ID: 8c8ebc3e876f74558180eace9ff2f03a0f12bca521d6fb7b9e4b68678672f47c\n",
      "Add of existing embedding ID: 2c22736ed1baae863a907849be6658248b9a2f0ce5edd5fe3d7987a756661263\n",
      "Add of existing embedding ID: bee81c180bb558070437c0526a3f5fe26c7a5dafbccf0a2c7cfa7b3ed106dbfe\n",
      "100%|██████████| 55/55 [06:38<00:00,  7.25s/it]\n"
     ]
    }
   ],
   "source": [
    "from tqdm import tqdm\n",
    "from src.datatypes import ToolResponse\n",
    "\n",
    "steps_correct = []\n",
    "\n",
    "recipe_agent = RecipeAgent(\n",
    "    client=client, tools=tools, max_internal_iteration=3, temperature=0.1\n",
    ")\n",
    "\n",
    "for question in tqdm(tools_benchmark, total=len(tools_benchmark)):\n",
    "    recipe_agent.conversation = recipe_agent.conversation[:1]\n",
    "\n",
    "    try:\n",
    "        _, response_steps = recipe_agent.say(question[\"prompt\"], add_to_memory=False)\n",
    "\n",
    "        tool_steps = filter(lambda step: isinstance(step, ToolResponse), response_steps)\n",
    "        tool_names = set([i.tool_name for i in tool_steps])\n",
    "\n",
    "        intersection = tool_names.intersection(set(question[\"expected_tools\"]))\n",
    "        steps_correct.append(len(intersection) / len(question[\"expected_tools\"]))\n",
    "    except:\n",
    "        steps_correct.append(0.0)"
   ]
  },
  {
   "cell_type": "code",
   "execution_count": 19,
   "metadata": {},
   "outputs": [
    {
     "name": "stdout",
     "output_type": "stream",
     "text": [
      "Average Correct Tool Steps: 68.18181818181819%\n"
     ]
    }
   ],
   "source": [
    "print(f\"Average Correct Tool Steps: {100 * sum(steps_correct) / len(steps_correct)}%\")"
   ]
  },
  {
   "cell_type": "code",
   "execution_count": null,
   "metadata": {},
   "outputs": [
    {
     "data": {
      "image/png": "[encoded data removed]",
      "text/plain": [
       "<Figure size 800x500 with 1 Axes>"
      ]
     },
     "metadata": {},
     "output_type": "display_data"
    }
   ],
   "source": [
    "from collections import Counter\n",
    "import matplotlib.pyplot as plt\n",
    "\n",
    "frequency = Counter(steps_correct)\n",
    "\n",
    "x, y = zip(*sorted(frequency.items()))  # Sort by keys (x values)\n",
    "x = [100 * i for i in x]\n",
    "x_pos = range(len(x))  # Create evenly spaced positions for x-axis\n",
    "\n",
    "# Plotting the bar graph\n",
    "fig, ax = plt.subplots(figsize=(8, 5))\n",
    "ax.bar(x_pos, y, color=\"forestgreen\", edgecolor=\"black\", width=0.6)  # Adjust bar width\n",
    "ax.set_title(\"Steps Correct Distribution\")\n",
    "ax.set_xlabel(\"Percent Correct Steps Taken (%)\")\n",
    "ax.set_ylabel(\"Frequency\")\n",
    "ax.set_xticks(x_pos, labels=x)  # Label x-axis with the original keys\n",
    "ax.grid(axis=\"y\", linestyle=\"-\", alpha=0.6, zorder=0)\n",
    "ax.set_axisbelow(True)  # Ensure gridlines are below the bars\n",
    "plt.show()"
   ]
  },
  {
   "cell_type": "code",
   "execution_count": null,
   "metadata": {},
   "outputs": [],
   "source": []
  }
 ],
 "metadata": {
  "kernelspec": {
   "display_name": "env",
   "language": "python",
   "name": "python3"
  },
  "language_info": {
   "codemirror_mode": {
    "name": "ipython",
    "version": 3
   },
   "file_extension": ".py",
   "mimetype": "text/x-python",
   "name": "python",
   "nbconvert_exporter": "python",
   "pygments_lexer": "ipython3",
   "version": "3.11.1"
  }
 },
 "nbformat": 4,
 "nbformat_minor": 2
}
